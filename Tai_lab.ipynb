{
  "nbformat": 4,
  "nbformat_minor": 0,
  "metadata": {
    "colab": {
      "provenance": [],
      "authorship_tag": "ABX9TyMxvI72AwWFnU13FkU9FHuw",
      "include_colab_link": true
    },
    "kernelspec": {
      "name": "python3",
      "display_name": "Python 3"
    },
    "language_info": {
      "name": "python"
    }
  },
  "cells": [
    {
      "cell_type": "markdown",
      "metadata": {
        "id": "view-in-github",
        "colab_type": "text"
      },
      "source": [
        "<a href=\"https://colab.research.google.com/github/wily037/Ameyo-data-minds/blob/main/Tai_lab.ipynb\" target=\"_parent\"><img src=\"https://colab.research.google.com/assets/colab-badge.svg\" alt=\"Open In Colab\"/></a>"
      ]
    },
    {
      "cell_type": "code",
      "execution_count": null,
      "metadata": {
        "id": "j4fV7Oc8I0Wj"
      },
      "outputs": [],
      "source": []
    },
    {
      "cell_type": "code",
      "source": [
        "\n",
        "code = \"\"\"\n",
        "from fastapi import FastAPI, UploadFile, File\n",
        "from fastapi.middleware.cors import CORSMiddleware\n",
        "import pandas as pd\n",
        "import io\n",
        "\n",
        "app = FastAPI()\n",
        "\n",
        "app.add_middleware(\n",
        "    CORSMiddleware,\n",
        "    allow_origins=[\"*\"],\n",
        "    allow_credentials=True,\n",
        "    allow_methods=[\"*\"],\n",
        "    allow_headers=[\"*\"],\n",
        ")\n",
        "\n",
        "@app.post(\"/analyze/\")\n",
        "async def analyze_csv(file: UploadFile = File(...)):\n",
        "    try:\n",
        "        contents = await file.read()\n",
        "        df = pd.read_csv(io.StringIO(contents.decode(\"utf-8\")))\n",
        "\n",
        "        summary = {\n",
        "            \"columns\": df.columns.tolist(),\n",
        "            \"shape\": df.shape,\n",
        "            \"missing_values\": df.isnull().sum().to_dict(),\n",
        "            \"mean\": df.mean(numeric_only=True).to_dict(),\n",
        "            \"median\": df.median(numeric_only=True).to_dict(),\n",
        "            \"head\": df.head().to_dict(orient=\"records\")\n",
        "        }\n",
        "\n",
        "        return {\"status\": \"success\", \"summary\": summary}\n",
        "\n",
        "    except Exception as e:\n",
        "        return {\"status\": \"error\", \"message\": str(e)}\n",
        "\"\"\"\n",
        "\n",
        "with open(\"main.py\", \"w\") as f:\n",
        "    f.write(code)\n",
        "from fastapi.middleware.cors import CORSMiddleware\n",
        "import pandas as pd\n",
        "import io\n",
        "\n",
        "app = FastAPI()\n",
        "\n",
        "# Enable CORS (so frontend can call the API later)\n",
        "app.add_middleware(\n",
        "    CORSMiddleware,\n",
        "    allow_origins=[\"*\"],  # Change to specific domain in production\n",
        "    allow_credentials=True,\n",
        "    allow_methods=[\"*\"],\n",
        "    allow_headers=[\"*\"],\n",
        ")\n",
        "\n",
        "@app.post(\"/analyze/\")\n",
        "async def analyze_csv(file: UploadFile = File(...)):\n",
        "    try:\n",
        "        contents = await file.read()\n",
        "        df = pd.read_csv(io.StringIO(contents.decode(\"utf-8\")))\n",
        "\n",
        "        # Summary statistics\n",
        "        summary = {\n",
        "            \"columns\": df.columns.tolist(),\n",
        "            \"shape\": df.shape,\n",
        "            \"missing_values\": df.isnull().sum().to_dict(),\n",
        "            \"mean\": df.mean(numeric_only=True).to_dict(),\n",
        "            \"median\": df.median(numeric_only=True).to_dict(),\n",
        "            \"head\": df.head().to_dict(orient=\"records\")\n",
        "        }\n",
        "\n",
        "        return {\"status\": \"success\", \"summary\": summary}\n",
        "\n",
        "    except Exception as e:\n",
        "        return {\"status\": \"error\", \"message\": str(e)}"
      ],
      "metadata": {
        "id": "DngcPNtzI4qO"
      },
      "execution_count": 14,
      "outputs": []
    },
    {
      "cell_type": "markdown",
      "source": [],
      "metadata": {
        "id": "zg2PQxrqer8_"
      }
    },
    {
      "cell_type": "code",
      "source": [
        "!pip install fastapi uvicorn nest-asyncio pyngrok pandas"
      ],
      "metadata": {
        "id": "9oKlJ0--hjBj",
        "colab": {
          "base_uri": "https://localhost:8080/"
        },
        "outputId": "62eacbff-85e6-407c-a4ca-3f8c9eb6576a"
      },
      "execution_count": 15,
      "outputs": [
        {
          "output_type": "stream",
          "name": "stdout",
          "text": [
            "Requirement already satisfied: fastapi in /usr/local/lib/python3.11/dist-packages (0.116.1)\n",
            "Requirement already satisfied: uvicorn in /usr/local/lib/python3.11/dist-packages (0.35.0)\n",
            "Requirement already satisfied: nest-asyncio in /usr/local/lib/python3.11/dist-packages (1.6.0)\n",
            "Requirement already satisfied: pyngrok in /usr/local/lib/python3.11/dist-packages (7.2.12)\n",
            "Requirement already satisfied: pandas in /usr/local/lib/python3.11/dist-packages (2.2.2)\n",
            "Requirement already satisfied: starlette<0.48.0,>=0.40.0 in /usr/local/lib/python3.11/dist-packages (from fastapi) (0.47.2)\n",
            "Requirement already satisfied: pydantic!=1.8,!=1.8.1,!=2.0.0,!=2.0.1,!=2.1.0,<3.0.0,>=1.7.4 in /usr/local/lib/python3.11/dist-packages (from fastapi) (2.11.7)\n",
            "Requirement already satisfied: typing-extensions>=4.8.0 in /usr/local/lib/python3.11/dist-packages (from fastapi) (4.14.1)\n",
            "Requirement already satisfied: click>=7.0 in /usr/local/lib/python3.11/dist-packages (from uvicorn) (8.2.1)\n",
            "Requirement already satisfied: h11>=0.8 in /usr/local/lib/python3.11/dist-packages (from uvicorn) (0.16.0)\n",
            "Requirement already satisfied: PyYAML>=5.1 in /usr/local/lib/python3.11/dist-packages (from pyngrok) (6.0.2)\n",
            "Requirement already satisfied: numpy>=1.23.2 in /usr/local/lib/python3.11/dist-packages (from pandas) (2.0.2)\n",
            "Requirement already satisfied: python-dateutil>=2.8.2 in /usr/local/lib/python3.11/dist-packages (from pandas) (2.9.0.post0)\n",
            "Requirement already satisfied: pytz>=2020.1 in /usr/local/lib/python3.11/dist-packages (from pandas) (2025.2)\n",
            "Requirement already satisfied: tzdata>=2022.7 in /usr/local/lib/python3.11/dist-packages (from pandas) (2025.2)\n",
            "Requirement already satisfied: annotated-types>=0.6.0 in /usr/local/lib/python3.11/dist-packages (from pydantic!=1.8,!=1.8.1,!=2.0.0,!=2.0.1,!=2.1.0,<3.0.0,>=1.7.4->fastapi) (0.7.0)\n",
            "Requirement already satisfied: pydantic-core==2.33.2 in /usr/local/lib/python3.11/dist-packages (from pydantic!=1.8,!=1.8.1,!=2.0.0,!=2.0.1,!=2.1.0,<3.0.0,>=1.7.4->fastapi) (2.33.2)\n",
            "Requirement already satisfied: typing-inspection>=0.4.0 in /usr/local/lib/python3.11/dist-packages (from pydantic!=1.8,!=1.8.1,!=2.0.0,!=2.0.1,!=2.1.0,<3.0.0,>=1.7.4->fastapi) (0.4.1)\n",
            "Requirement already satisfied: six>=1.5 in /usr/local/lib/python3.11/dist-packages (from python-dateutil>=2.8.2->pandas) (1.17.0)\n",
            "Requirement already satisfied: anyio<5,>=3.6.2 in /usr/local/lib/python3.11/dist-packages (from starlette<0.48.0,>=0.40.0->fastapi) (4.9.0)\n",
            "Requirement already satisfied: idna>=2.8 in /usr/local/lib/python3.11/dist-packages (from anyio<5,>=3.6.2->starlette<0.48.0,>=0.40.0->fastapi) (3.10)\n",
            "Requirement already satisfied: sniffio>=1.1 in /usr/local/lib/python3.11/dist-packages (from anyio<5,>=3.6.2->starlette<0.48.0,>=0.40.0->fastapi) (1.3.1)\n"
          ]
        }
      ]
    },
    {
      "cell_type": "code",
      "source": [
        "\n",
        "from pyngrok import ngrok\n",
        "\n",
        "# Paste your auth token below between the quotes\n",
        "ngrok.set_auth_token(\"30KcWzC7n4I7sWgVgLAQLseeJGB_5QwBLdsMuQTF2jFkvmLbX\")"
      ],
      "metadata": {
        "id": "yI73SeY9nHVx",
        "colab": {
          "base_uri": "https://localhost:8080/"
        },
        "outputId": "364c13ad-f96c-459b-eabf-ff01c7c7a8da"
      },
      "execution_count": null,
      "outputs": [
        {
          "output_type": "stream",
          "name": "stdout",
          "text": []
        }
      ]
    },
    {
      "cell_type": "code",
      "source": [
        "\n",
        "from fastapi import File, UploadFile\n",
        "import pandas as pd\n",
        "import io\n",
        "\n",
        "@app.post(\"/upload_csv/\")\n",
        "async def upload_csv(file: UploadFile = File(...)):\n",
        "    contents = await file.read()\n",
        "    df = pd.read_csv(io.StringIO(contents.decode(\"utf-8\")))\n",
        "    return {\n",
        "        \"filename\": file.filename,\n",
        "        \"columns\": df.columns.tolist(),\n",
        "        \"rows\": len(df)\n",
        "    }"
      ],
      "metadata": {
        "id": "Vbjpvf5Fru28"
      },
      "execution_count": 16,
      "outputs": []
    },
    {
      "cell_type": "code",
      "source": [
        "\n",
        "from pyngrok import ngrok\n",
        "ngrok.kill()"
      ],
      "metadata": {
        "id": "8HvbELPQvW-v"
      },
      "execution_count": null,
      "outputs": []
    },
    {
      "cell_type": "code",
      "source": [
        "\n",
        "# Install FastAPI, Uvicorn, Pandas, Ngrok (run this in Colab)\n",
        "!pip install fastapi[all] pyngrok pandas openpyxl --quiet\n",
        "\n",
        "# --- main.py (Put this in a new cell in Colab) ---\n",
        "from fastapi import FastAPI, File, UploadFile\n",
        "from fastapi.responses import JSONResponse\n",
        "from fastapi.middleware.cors import CORSMiddleware\n",
        "import pandas as pd\n",
        "from io import BytesIO\n",
        "\n",
        "app = FastAPI()\n",
        "\n",
        "# Allow CORS (Optional if you'll use frontend later)\n",
        "app.add_middleware(\n",
        "    CORSMiddleware,\n",
        "    allow_origins=[\"*\"],\n",
        "    allow_methods=[\"*\"],\n",
        "    allow_headers=[\"*\"],\n",
        ")\n",
        "\n",
        "@app.post(\"/upload/\")\n",
        "async def upload_file(file: UploadFile = File(...)):\n",
        "    contents = await file.read()\n",
        "    try:\n",
        "        if file.filename.endswith(\".csv\"):\n",
        "            df = pd.read_csv(BytesIO(contents))\n",
        "        elif file.filename.endswith(\".xlsx\"):\n",
        "            df = pd.read_excel(BytesIO(contents))\n",
        "        else:\n",
        "            return JSONResponse(content={\"error\": \"Unsupported file format. Upload .csv or .xlsx\"}, status_code=400)\n",
        "    except Exception as e:\n",
        "        return JSONResponse(content={\"error\": str(e)}, status_code=500)\n",
        "\n",
        "    return {\n",
        "        \"message\": \"File uploaded successfully!\",\n",
        "        \"columns\": df.columns.tolist(),\n",
        "        \"rows\": df.shape[0]\n",
        "    }\n",
        "\n",
        "# Run the server\n",
        "from pyngrok import ngrok\n",
        "import uvicorn\n",
        "import nest_asyncio\n",
        "nest_asyncio.apply()\n",
        "\n",
        "public_url = ngrok.connect(8000)\n",
        "print(f\"🔗 Your Public API: {public_url}\")\n",
        "uvicorn.run(app, port=8000)"
      ],
      "metadata": {
        "id": "K5fbmcqjqKkV",
        "colab": {
          "base_uri": "https://localhost:8080/"
        },
        "outputId": "9dd9b844-4ccc-4e4b-a2a2-c40138bb89ad"
      },
      "execution_count": null,
      "outputs": [
        {
          "metadata": {
            "tags": null
          },
          "name": "stdout",
          "output_type": "stream",
          "text": [
            "\u001b[2K   \u001b[90m━━━━━━━━━━━━━━━━━━━━━━━━━━━━━━━━━━━━━━━━\u001b[0m \u001b[32m45.2/45.2 kB\u001b[0m \u001b[31m3.9 MB/s\u001b[0m eta \u001b[36m0:00:00\u001b[0m\n",
            "\u001b[2K   \u001b[90m━━━━━━━━━━━━━━━━━━━━━━━━━━━━━━━━━━━━━━━━\u001b[0m \u001b[32m53.6/53.6 kB\u001b[0m \u001b[31m4.6 MB/s\u001b[0m eta \u001b[36m0:00:00\u001b[0m\n",
            "\u001b[2K   \u001b[90m━━━━━━━━━━━━━━━━━━━━━━━━━━━━━━━━━━━━━━━━\u001b[0m \u001b[32m313.6/313.6 kB\u001b[0m \u001b[31m10.4 MB/s\u001b[0m eta \u001b[36m0:00:00\u001b[0m\n",
            "\u001b[2K   \u001b[90m━━━━━━━━━━━━━━━━━━━━━━━━━━━━━━━━━━━━━━━━\u001b[0m \u001b[32m459.8/459.8 kB\u001b[0m \u001b[31m20.8 MB/s\u001b[0m eta \u001b[36m0:00:00\u001b[0m\n",
            "\u001b[2K   \u001b[90m━━━━━━━━━━━━━━━━━━━━━━━━━━━━━━━━━━━━━━━━\u001b[0m \u001b[32m4.0/4.0 MB\u001b[0m \u001b[31m76.7 MB/s\u001b[0m eta \u001b[36m0:00:00\u001b[0m\n",
            "\u001b[2K   \u001b[90m━━━━━━━━━━━━━━━━━━━━━━━━━━━━━━━━━━━━━━━━\u001b[0m \u001b[32m453.1/453.1 kB\u001b[0m \u001b[31m33.8 MB/s\u001b[0m eta \u001b[36m0:00:00\u001b[0m\n",
            "\u001b[2K   \u001b[90m━━━━━━━━━━━━━━━━━━━━━━━━━━━━━━━━━━━━━━━━\u001b[0m \u001b[32m950.6/950.6 kB\u001b[0m \u001b[31m57.3 MB/s\u001b[0m eta \u001b[36m0:00:00\u001b[0m\n",
            "\u001b[?25h"
          ]
        },
        {
          "metadata": {
            "tags": null
          },
          "name": "stderr",
          "output_type": "stream",
          "text": [
            "INFO:     Started server process [959]\n",
            "INFO:     Waiting for application startup.\n",
            "INFO:     Application startup complete.\n",
            "INFO:     Uvicorn running on http://127.0.0.1:8000 (Press CTRL+C to quit)\n"
          ]
        },
        {
          "metadata": {
            "tags": null
          },
          "name": "stdout",
          "output_type": "stream",
          "text": [
            "🔗 Your Public API: NgrokTunnel: \"https://5b4bb5dc3f9e.ngrok-free.app\" -> \"http://localhost:8000\"\n"
          ]
        }
      ]
    },
    {
      "cell_type": "code",
      "source": [
        "\n",
        "from fastapi import File, UploadFile\n",
        "from fastapi.responses import JSONResponse\n",
        "import pandas as pd\n",
        "import io\n",
        "\n",
        "@app.post(\"/upload/\")\n",
        "async def upload_file(file: UploadFile = File(...)):\n",
        "    contents = await file.read()\n",
        "    try:\n",
        "        df = pd.read_csv(io.BytesIO(contents))\n",
        "        preview = {\n",
        "            \"columns\": df.columns.tolist(),\n",
        "            \"shape\": df.shape,\n",
        "            \"head\": df.head().to_dict()\n",
        "        }\n",
        "        return JSONResponse(content=preview)\n",
        "    except Exception as e:\n",
        "        return JSONResponse(content={\"error\": str(e)}, status_code=400)"
      ],
      "metadata": {
        "id": "4Vr_qjK0p1lg"
      },
      "execution_count": null,
      "outputs": []
    },
    {
      "cell_type": "code",
      "source": [
        "import nest_asyncio\n",
        "import threading\n",
        "from pyngrok import ngrok\n",
        "import uvicorn\n",
        "\n",
        "# Allow async code in Colab\n",
        "nest_asyncio.apply()\n",
        "\n",
        "# Set up the public URL\n",
        "public_url = ngrok.connect(8000)\n",
        "print(f\"🔗 Your Public API: {public_url}/docs\")\n",
        "\n",
        "# Function to run server\n",
        "def run():\n",
        "    uvicorn.run(\"main:app\", host=\"0.0.0.0\", port=8000)\n",
        "\n",
        "# Start server in background\n",
        "thread = threading.Thread(target=run)\n",
        "thread.start()"
      ],
      "metadata": {
        "id": "ceJrT7y2qPD0",
        "outputId": "37c5260e-5fc6-48b1-bc3c-44c1bbf20939",
        "colab": {
          "base_uri": "https://localhost:8080/"
        }
      },
      "execution_count": null,
      "outputs": [
        {
          "output_type": "stream",
          "name": "stdout",
          "text": [
            "🔗 Your Public API: NgrokTunnel: \"https://228467d203b1.ngrok-free.app\" -> \"http://localhost:8000\"/docs\n"
          ]
        },
        {
          "output_type": "stream",
          "name": "stderr",
          "text": [
            "Exception in thread Thread-10 (run):\n",
            "Traceback (most recent call last):\n",
            "  File \"/usr/lib/python3.11/threading.py\", line 1045, in _bootstrap_inner\n",
            "    self.run()\n",
            "  File \"/usr/lib/python3.11/threading.py\", line 982, in run\n"
          ]
        }
      ]
    },
    {
      "cell_type": "code",
      "source": [
        "\n",
        "# Install requirements (only needed once per session)\n",
        "!pip install fastapi uvicorn pyngrok python-multipart openpyxl --quiet\n",
        "\n",
        "# Save main FastAPI app\n",
        "with open(\"main.py\", \"w\") as f:\n",
        "    f.write(\"\"\"\n",
        "from fastapi import FastAPI, File, UploadFile, HTTPException\n",
        "import pandas as pd\n",
        "from io import BytesIO\n",
        "\n",
        "app = FastAPI()\n",
        "\n",
        "@app.get(\"/\")\n",
        "def root():\n",
        "    return {\"message\": \"Hello, this is your API!\"}\n",
        "\n",
        "@app.post(\"/upload/\")\n",
        "async def upload_file(file: UploadFile = File(...)):\n",
        "    try:\n",
        "        if file.filename.endswith(\".csv\"):\n",
        "            df = pd.read_csv(BytesIO(await file.read()))\n",
        "        elif file.filename.endswith(\".xlsx\"):\n",
        "            df = pd.read_excel(BytesIO(await file.read()))\n",
        "        else:\n",
        "            raise HTTPException(status_code=400, detail=\"Only CSV or Excel files are supported\")\n",
        "        return {\n",
        "            \"columns\": df.columns.tolist(),\n",
        "            \"rows\": df.head(5).to_dict(orient=\"records\")\n",
        "        }\n",
        "    except Exception as e:\n",
        "        raise HTTPException(status_code=500, detail=str(e))\n",
        "\"\"\")\n",
        "\n",
        "# Setup Ngrok tunnel\n",
        "from pyngrok import ngrok\n",
        "import time\n",
        "try:\n",
        "    ngrok.kill()  # Close previous tunnels if any\n",
        "except:\n",
        "    pass\n",
        "public_url = ngrok.connect(8000)\n",
        "print(f\"🔗 Your Public API: {public_url}/docs\")\n",
        "\n",
        "# Start FastAPI using uvicorn in background\n",
        "import nest_asyncio\n",
        "import uvicorn\n",
        "nest_asyncio.apply()\n",
        "\n",
        "uvicorn.run(\"main:app\", host=\"0.0.0.0\", port=8000)"
      ],
      "metadata": {
        "colab": {
          "base_uri": "https://localhost:8080/"
        },
        "id": "YqUQ0jnB8GSw",
        "outputId": "5b44c135-f4c0-4965-ad20-6857fb1c905f"
      },
      "execution_count": null,
      "outputs": [
        {
          "output_type": "stream",
          "name": "stderr",
          "text": [
            "ERROR:asyncio:Task exception was never retrieved\n",
            "future: <Task finished name='Task-4' coro=<Server.serve() done, defined at /usr/local/lib/python3.11/dist-packages/uvicorn/server.py:69> exception=KeyboardInterrupt()>\n",
            "Traceback (most recent call last):\n",
            "  File \"/usr/local/lib/python3.11/dist-packages/uvicorn/main.py\", line 580, in run\n",
            "    server.run()\n",
            "  File \"/usr/local/lib/python3.11/dist-packages/uvicorn/server.py\", line 67, in run\n",
            "    return asyncio.run(self.serve(sockets=sockets))\n",
            "           ^^^^^^^^^^^^^^^^^^^^^^^^^^^^^^^^^^^^^^^^\n",
            "  File \"/usr/local/lib/python3.11/dist-packages/nest_asyncio.py\", line 30, in run\n",
            "    return loop.run_until_complete(task)\n",
            "           ^^^^^^^^^^^^^^^^^^^^^^^^^^^^^\n",
            "  File \"/usr/local/lib/python3.11/dist-packages/nest_asyncio.py\", line 92, in run_until_complete\n",
            "    self._run_once()\n",
            "  File \"/usr/local/lib/python3.11/dist-packages/nest_asyncio.py\", line 133, in _run_once\n",
            "    handle._run()\n",
            "  File \"/usr/lib/python3.11/asyncio/events.py\", line 84, in _run\n",
            "    self._context.run(self._callback, *self._args)\n",
            "  File \"/usr/lib/python3.11/asyncio/tasks.py\", line 360, in __wakeup\n",
            "    self.__step()\n",
            "  File \"/usr/lib/python3.11/asyncio/tasks.py\", line 277, in __step\n",
            "    result = coro.send(None)\n",
            "             ^^^^^^^^^^^^^^^\n",
            "  File \"/usr/local/lib/python3.11/dist-packages/uvicorn/server.py\", line 70, in serve\n",
            "    with self.capture_signals():\n",
            "  File \"/usr/lib/python3.11/contextlib.py\", line 144, in __exit__\n",
            "    next(self.gen)\n",
            "  File \"/usr/local/lib/python3.11/dist-packages/uvicorn/server.py\", line 331, in capture_signals\n",
            "    signal.raise_signal(captured_signal)\n",
            "KeyboardInterrupt\n"
          ]
        },
        {
          "output_type": "stream",
          "name": "stdout",
          "text": [
            "🔗 Your Public API: NgrokTunnel: \"https://91b3dce645b0.ngrok-free.app\" -> \"http://localhost:8000\"/docs\n"
          ]
        },
        {
          "output_type": "stream",
          "name": "stderr",
          "text": [
            "INFO:     Started server process [959]\n",
            "INFO:     Waiting for application startup.\n",
            "INFO:     Application startup complete.\n",
            "INFO:     Uvicorn running on http://0.0.0.0:8000 (Press CTRL+C to quit)\n"
          ]
        }
      ]
    }
  ]
}