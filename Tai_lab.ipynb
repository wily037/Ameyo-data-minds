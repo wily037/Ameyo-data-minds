{
  "nbformat": 4,
  "nbformat_minor": 0,
  "metadata": {
    "colab": {
      "provenance": [],
      "authorship_tag": "ABX9TyMsmKS5AKVdBnUuDaHvL0KQ",
      "include_colab_link": true
    },
    "kernelspec": {
      "name": "python3",
      "display_name": "Python 3"
    },
    "language_info": {
      "name": "python"
    }
  },
  "cells": [
    {
      "cell_type": "markdown",
      "metadata": {
        "id": "view-in-github",
        "colab_type": "text"
      },
      "source": [
        "<a href=\"https://colab.research.google.com/github/wily037/Ameyo-data-minds/blob/main/Tai_lab.ipynb\" target=\"_parent\"><img src=\"https://colab.research.google.com/assets/colab-badge.svg\" alt=\"Open In Colab\"/></a>"
      ]
    },
    {
      "cell_type": "code",
      "execution_count": null,
      "metadata": {
        "id": "j4fV7Oc8I0Wj"
      },
      "outputs": [],
      "source": []
    },
    {
      "cell_type": "code",
      "source": [
        "\n",
        "code = \"\"\"\n",
        "from fastapi import FastAPI, UploadFile, File\n",
        "from fastapi.middleware.cors import CORSMiddleware\n",
        "import pandas as pd\n",
        "import io\n",
        "\n",
        "app = FastAPI()\n",
        "\n",
        "app.add_middleware(\n",
        "    CORSMiddleware,\n",
        "    allow_origins=[\"*\"],\n",
        "    allow_credentials=True,\n",
        "    allow_methods=[\"*\"],\n",
        "    allow_headers=[\"*\"],\n",
        ")\n",
        "\n",
        "@app.post(\"/analyze/\")\n",
        "async def analyze_csv(file: UploadFile = File(...)):\n",
        "    try:\n",
        "        contents = await file.read()\n",
        "        df = pd.read_csv(io.StringIO(contents.decode(\"utf-8\")))\n",
        "\n",
        "        summary = {\n",
        "            \"columns\": df.columns.tolist(),\n",
        "            \"shape\": df.shape,\n",
        "            \"missing_values\": df.isnull().sum().to_dict(),\n",
        "            \"mean\": df.mean(numeric_only=True).to_dict(),\n",
        "            \"median\": df.median(numeric_only=True).to_dict(),\n",
        "            \"head\": df.head().to_dict(orient=\"records\")\n",
        "        }\n",
        "\n",
        "        return {\"status\": \"success\", \"summary\": summary}\n",
        "\n",
        "    except Exception as e:\n",
        "        return {\"status\": \"error\", \"message\": str(e)}\n",
        "\"\"\"\n",
        "\n",
        "with open(\"main.py\", \"w\") as f:\n",
        "    f.write(code)\n",
        "from fastapi import FastAPI, UploadFile, File\n",
        "from fastapi.middleware.cors import CORSMiddleware\n",
        "import pandas as pd\n",
        "import io\n",
        "\n",
        "app = FastAPI()\n",
        "\n",
        "# Enable CORS (so frontend can call the API later)\n",
        "app.add_middleware(\n",
        "    CORSMiddleware,\n",
        "    allow_origins=[\"*\"],  # Change to specific domain in production\n",
        "    allow_credentials=True,\n",
        "    allow_methods=[\"*\"],\n",
        "    allow_headers=[\"*\"],\n",
        ")\n",
        "\n",
        "@app.post(\"/analyze/\")\n",
        "async def analyze_csv(file: UploadFile = File(...)):\n",
        "    try:\n",
        "        contents = await file.read()\n",
        "        df = pd.read_csv(io.StringIO(contents.decode(\"utf-8\")))\n",
        "\n",
        "        # Summary statistics\n",
        "        summary = {\n",
        "            \"columns\": df.columns.tolist(),\n",
        "            \"shape\": df.shape,\n",
        "            \"missing_values\": df.isnull().sum().to_dict(),\n",
        "            \"mean\": df.mean(numeric_only=True).to_dict(),\n",
        "            \"median\": df.median(numeric_only=True).to_dict(),\n",
        "            \"head\": df.head().to_dict(orient=\"records\")\n",
        "        }\n",
        "\n",
        "        return {\"status\": \"success\", \"summary\": summary}\n",
        "\n",
        "    except Exception as e:\n",
        "        return {\"status\": \"error\", \"message\": str(e)}"
      ],
      "metadata": {
        "id": "DngcPNtzI4qO",
        "colab": {
          "base_uri": "https://localhost:8080/"
        },
        "outputId": "e75a30cf-9055-446b-e28d-56037480a614"
      },
      "execution_count": null,
      "outputs": [
        {
          "output_type": "stream",
          "name": "stderr",
          "text": [
            "ERROR:asyncio:Task exception was never retrieved\n",
            "future: <Task finished name='Task-31' coro=<Server.serve() done, defined at /usr/local/lib/python3.11/dist-packages/uvicorn/server.py:69> exception=SystemExit(1)>\n",
            "Traceback (most recent call last):\n",
            "  File \"/usr/local/lib/python3.11/dist-packages/uvicorn/server.py\", line 164, in startup\n",
            "    server = await loop.create_server(\n",
            "             ^^^^^^^^^^^^^^^^^^^^^^^^^\n",
            "  File \"/usr/lib/python3.11/asyncio/base_events.py\", line 1536, in create_server\n",
            "    raise OSError(err.errno, msg) from None\n",
            "OSError: [Errno 98] error while attempting to bind on address ('0.0.0.0', 8000): address already in use\n",
            "\n",
            "During handling of the above exception, another exception occurred:\n",
            "\n",
            "Traceback (most recent call last):\n",
            "  File \"/usr/lib/python3.11/threading.py\", line 1045, in _bootstrap_inner\n",
            "    self.run()\n",
            "  File \"/usr/lib/python3.11/threading.py\", line 982, in run\n",
            "    self._target(*self._args, **self._kwargs)\n",
            "  File \"/tmp/ipython-input-26-1877427048.py\", line 15, in run\n",
            "    uvicorn.run(\"main:app\", host=\"0.0.0.0\", port=8000)\n",
            "  File \"/usr/local/lib/python3.11/dist-packages/uvicorn/main.py\", line 580, in run\n",
            "    server.run()\n",
            "  File \"/usr/local/lib/python3.11/dist-packages/uvicorn/server.py\", line 67, in run\n",
            "    return asyncio.run(self.serve(sockets=sockets))\n",
            "           ^^^^^^^^^^^^^^^^^^^^^^^^^^^^^^^^^^^^^^^^\n",
            "  File \"/usr/local/lib/python3.11/dist-packages/nest_asyncio.py\", line 30, in run\n",
            "    return loop.run_until_complete(task)\n",
            "           ^^^^^^^^^^^^^^^^^^^^^^^^^^^^^\n",
            "  File \"/usr/local/lib/python3.11/dist-packages/nest_asyncio.py\", line 92, in run_until_complete\n",
            "    self._run_once()\n",
            "  File \"/usr/local/lib/python3.11/dist-packages/nest_asyncio.py\", line 133, in _run_once\n",
            "    handle._run()\n",
            "  File \"/usr/lib/python3.11/asyncio/events.py\", line 84, in _run\n",
            "    self._context.run(self._callback, *self._args)\n",
            "  File \"/usr/lib/python3.11/asyncio/tasks.py\", line 360, in __wakeup\n",
            "    self.__step()\n",
            "  File \"/usr/lib/python3.11/asyncio/tasks.py\", line 277, in __step\n",
            "    result = coro.send(None)\n",
            "             ^^^^^^^^^^^^^^^\n",
            "  File \"/usr/local/lib/python3.11/dist-packages/uvicorn/server.py\", line 71, in serve\n",
            "    await self._serve(sockets)\n",
            "  File \"/usr/local/lib/python3.11/dist-packages/uvicorn/server.py\", line 86, in _serve\n",
            "    await self.startup(sockets=sockets)\n",
            "  File \"/usr/local/lib/python3.11/dist-packages/uvicorn/server.py\", line 174, in startup\n",
            "    sys.exit(1)\n",
            "SystemExit: 1\n"
          ]
        }
      ]
    },
    {
      "cell_type": "markdown",
      "source": [],
      "metadata": {
        "id": "zg2PQxrqer8_"
      }
    },
    {
      "cell_type": "code",
      "source": [
        "!pip install fastapi uvicorn nest-asyncio pyngrok pandas"
      ],
      "metadata": {
        "id": "9oKlJ0--hjBj",
        "colab": {
          "base_uri": "https://localhost:8080/"
        },
        "outputId": "0eaec792-0708-4d95-fca2-90b6bfc62b2a"
      },
      "execution_count": null,
      "outputs": [
        {
          "output_type": "stream",
          "name": "stdout",
          "text": [
            "Requirement already satisfied: fastapi in /usr/local/lib/python3.11/dist-packages (0.116.1)\n",
            "Requirement already satisfied: uvicorn in /usr/local/lib/python3.11/dist-packages (0.35.0)\n",
            "Requirement already satisfied: nest-asyncio in /usr/local/lib/python3.11/dist-packages (1.6.0)\n",
            "Requirement already satisfied: pyngrok in /usr/local/lib/python3.11/dist-packages (7.2.12)\n",
            "Requirement already satisfied: pandas in /usr/local/lib/python3.11/dist-packages (2.2.2)\n",
            "Requirement already satisfied: starlette<0.48.0,>=0.40.0 in /usr/local/lib/python3.11/dist-packages (from fastapi) (0.47.2)\n",
            "Requirement already satisfied: pydantic!=1.8,!=1.8.1,!=2.0.0,!=2.0.1,!=2.1.0,<3.0.0,>=1.7.4 in /usr/local/lib/python3.11/dist-packages (from fastapi) (2.11.7)\n",
            "Requirement already satisfied: typing-extensions>=4.8.0 in /usr/local/lib/python3.11/dist-packages (from fastapi) (4.14.1)\n",
            "Requirement already satisfied: click>=7.0 in /usr/local/lib/python3.11/dist-packages (from uvicorn) (8.2.1)\n",
            "Requirement already satisfied: h11>=0.8 in /usr/local/lib/python3.11/dist-packages (from uvicorn) (0.16.0)\n",
            "Requirement already satisfied: PyYAML>=5.1 in /usr/local/lib/python3.11/dist-packages (from pyngrok) (6.0.2)\n",
            "Requirement already satisfied: numpy>=1.23.2 in /usr/local/lib/python3.11/dist-packages (from pandas) (2.0.2)\n",
            "Requirement already satisfied: python-dateutil>=2.8.2 in /usr/local/lib/python3.11/dist-packages (from pandas) (2.9.0.post0)\n",
            "Requirement already satisfied: pytz>=2020.1 in /usr/local/lib/python3.11/dist-packages (from pandas) (2025.2)\n",
            "Requirement already satisfied: tzdata>=2022.7 in /usr/local/lib/python3.11/dist-packages (from pandas) (2025.2)\n",
            "Requirement already satisfied: annotated-types>=0.6.0 in /usr/local/lib/python3.11/dist-packages (from pydantic!=1.8,!=1.8.1,!=2.0.0,!=2.0.1,!=2.1.0,<3.0.0,>=1.7.4->fastapi) (0.7.0)\n",
            "Requirement already satisfied: pydantic-core==2.33.2 in /usr/local/lib/python3.11/dist-packages (from pydantic!=1.8,!=1.8.1,!=2.0.0,!=2.0.1,!=2.1.0,<3.0.0,>=1.7.4->fastapi) (2.33.2)\n",
            "Requirement already satisfied: typing-inspection>=0.4.0 in /usr/local/lib/python3.11/dist-packages (from pydantic!=1.8,!=1.8.1,!=2.0.0,!=2.0.1,!=2.1.0,<3.0.0,>=1.7.4->fastapi) (0.4.1)\n",
            "Requirement already satisfied: six>=1.5 in /usr/local/lib/python3.11/dist-packages (from python-dateutil>=2.8.2->pandas) (1.17.0)\n",
            "Requirement already satisfied: anyio<5,>=3.6.2 in /usr/local/lib/python3.11/dist-packages (from starlette<0.48.0,>=0.40.0->fastapi) (4.9.0)\n",
            "Requirement already satisfied: idna>=2.8 in /usr/local/lib/python3.11/dist-packages (from anyio<5,>=3.6.2->starlette<0.48.0,>=0.40.0->fastapi) (3.10)\n",
            "Requirement already satisfied: sniffio>=1.1 in /usr/local/lib/python3.11/dist-packages (from anyio<5,>=3.6.2->starlette<0.48.0,>=0.40.0->fastapi) (1.3.1)\n"
          ]
        }
      ]
    },
    {
      "cell_type": "code",
      "source": [
        "\n",
        "from pyngrok import ngrok\n",
        "\n",
        "# Paste your auth token below between the quotes\n",
        "ngrok.set_auth_token(\"30KcWzC7n4I7sWgVgLAQLseeJGB_5QwBLdsMuQTF2jFkvmLbX\")"
      ],
      "metadata": {
        "id": "yI73SeY9nHVx"
      },
      "execution_count": null,
      "outputs": []
    },
    {
      "cell_type": "code",
      "source": [
        "\n",
        "from fastapi import File, UploadFile\n",
        "import pandas as pd\n",
        "import io\n",
        "\n",
        "@app.post(\"/upload_csv/\")\n",
        "async def upload_csv(file: UploadFile = File(...)):\n",
        "    contents = await file.read()\n",
        "    df = pd.read_csv(io.StringIO(contents.decode(\"utf-8\")))\n",
        "    return {\n",
        "        \"filename\": file.filename,\n",
        "        \"columns\": df.columns.tolist(),\n",
        "        \"rows\": len(df)\n",
        "    }"
      ],
      "metadata": {
        "id": "Vbjpvf5Fru28"
      },
      "execution_count": null,
      "outputs": []
    },
    {
      "cell_type": "code",
      "source": [
        "\n",
        "from pyngrok import ngrok\n",
        "ngrok.kill()"
      ],
      "metadata": {
        "id": "8HvbELPQvW-v"
      },
      "execution_count": null,
      "outputs": []
    },
    {
      "cell_type": "code",
      "source": [
        "import nest_asyncio\n",
        "import threading\n",
        "from pyngrok import ngrok\n",
        "import uvicorn\n",
        "\n",
        "# Allow async code in Colab\n",
        "nest_asyncio.apply()\n",
        "\n",
        "# Set up the public URL\n",
        "public_url = ngrok.connect(8000)\n",
        "print(f\"🔗 Your Public API: {public_url}/docs\")\n",
        "\n",
        "# Function to run server\n",
        "def run():\n",
        "    uvicorn.run(\"main:app\", host=\"0.0.0.0\", port=8000)\n",
        "\n",
        "# Start server in background\n",
        "thread = threading.Thread(target=run)\n",
        "thread.start()"
      ],
      "metadata": {
        "colab": {
          "base_uri": "https://localhost:8080/"
        },
        "id": "SDcd0mEEvZqc",
        "outputId": "b39adec1-2114-4ff4-d14c-5e77a967daa9"
      },
      "execution_count": null,
      "outputs": [
        {
          "output_type": "stream",
          "name": "stdout",
          "text": [
            "🔗 Your Public API: NgrokTunnel: \"https://1e22cd5d052f.ngrok-free.app\" -> \"http://localhost:8000\"/docs\n"
          ]
        }
      ]
    }
  ]
}